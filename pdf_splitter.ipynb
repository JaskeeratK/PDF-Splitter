{
  "nbformat": 4,
  "nbformat_minor": 0,
  "metadata": {
    "colab": {
      "provenance": [],
      "authorship_tag": "ABX9TyOvYt/ezccbN8M7IhJxyyYg",
      "include_colab_link": true
    },
    "kernelspec": {
      "name": "python3",
      "display_name": "Python 3"
    },
    "language_info": {
      "name": "python"
    }
  },
  "cells": [
    {
      "cell_type": "markdown",
      "metadata": {
        "id": "view-in-github",
        "colab_type": "text"
      },
      "source": [
        "<a href=\"https://colab.research.google.com/github/JaskeeratK/PDF-Splitter/blob/main/pdf_splitter.ipynb\" target=\"_parent\"><img src=\"https://colab.research.google.com/assets/colab-badge.svg\" alt=\"Open In Colab\"/></a>"
      ]
    },
    {
      "cell_type": "code",
      "execution_count": 1,
      "metadata": {
        "colab": {
          "base_uri": "https://localhost:8080/"
        },
        "id": "yTg-isxcslo-",
        "outputId": "844ea7b1-62a0-4d99-e763-cf76c84ba40b"
      },
      "outputs": [
        {
          "output_type": "stream",
          "name": "stdout",
          "text": [
            "Collecting PyPDF2\n",
            "  Downloading pypdf2-3.0.1-py3-none-any.whl.metadata (6.8 kB)\n",
            "Downloading pypdf2-3.0.1-py3-none-any.whl (232 kB)\n",
            "\u001b[?25l   \u001b[90m━━━━━━━━━━━━━━━━━━━━━━━━━━━━━━━━━━━━━━━━\u001b[0m \u001b[32m0.0/232.6 kB\u001b[0m \u001b[31m?\u001b[0m eta \u001b[36m-:--:--\u001b[0m\r\u001b[2K   \u001b[91m━━━━━━━━━━━━━━━━━━━━━━━━━━━━━━━━━━━━━━\u001b[0m\u001b[91m╸\u001b[0m\u001b[90m━\u001b[0m \u001b[32m225.3/232.6 kB\u001b[0m \u001b[31m7.1 MB/s\u001b[0m eta \u001b[36m0:00:01\u001b[0m\r\u001b[2K   \u001b[90m━━━━━━━━━━━━━━━━━━━━━━━━━━━━━━━━━━━━━━━━\u001b[0m \u001b[32m232.6/232.6 kB\u001b[0m \u001b[31m5.2 MB/s\u001b[0m eta \u001b[36m0:00:00\u001b[0m\n",
            "\u001b[?25hInstalling collected packages: PyPDF2\n",
            "Successfully installed PyPDF2-3.0.1\n"
          ]
        }
      ],
      "source": [
        "!pip install PyPDF2\n"
      ]
    },
    {
      "cell_type": "code",
      "source": [
        "import os\n",
        "from PyPDF2 import PdfWriter,PdfReader\n",
        "def split_pdf(input,output,split_page):\n",
        "  if not os.path.exists(output):\n",
        "    os.makedirs(output)\n",
        "  pdf=PdfReader(open(input,'rb'))\n",
        "  total_pages=len(pdf.pages)\n",
        "  part1_writer = PdfWriter()\n",
        "  part2_writer = PdfWriter()\n",
        "  for page_num in range(total_pages):\n",
        "        if page_num < split_page:\n",
        "            part1_writer.add_page(pdf.pages[page_num])\n",
        "        else:\n",
        "            part2_writer.add_page(pdf.pages[page_num])\n",
        "\n",
        "  part1_filename = os.path.join(output, 'part1.pdf')\n",
        "  part2_filename = os.path.join(output, 'part2.pdf')\n",
        "\n",
        "  with open(part1_filename, 'wb') as part1_pdf:\n",
        "        part1_writer.write(part1_pdf)\n",
        "\n",
        "  with open(part2_filename, 'wb') as part2_pdf:\n",
        "        part2_writer.write(part2_pdf)\n",
        "\n",
        "  print(f'Created: {part1_filename}')\n",
        "  print(f'Created: {part2_filename}')"
      ],
      "metadata": {
        "id": "gQBBOYbktg3o"
      },
      "execution_count": 3,
      "outputs": []
    },
    {
      "cell_type": "code",
      "source": [
        "if __name__ == \"__main__\":\n",
        "    input_pdf = \"/content/O' Sullivan  Orthosis Pg 1344-1351.pdf\"\n",
        "    output_dir = '/content/ouput'\n",
        "    split_page = int(input(\"Enter the page number where you want to split the PDF: \"))\n",
        "    split_pdf(input_pdf, output_dir, split_page)\n"
      ],
      "metadata": {
        "colab": {
          "base_uri": "https://localhost:8080/"
        },
        "id": "BN8xDDQsuo78",
        "outputId": "32d62eb7-2d4a-4a66-ce55-b698e6955e98"
      },
      "execution_count": 4,
      "outputs": [
        {
          "output_type": "stream",
          "name": "stdout",
          "text": [
            "Enter the page number where you want to split the PDF: 2\n",
            "Created: /content/ouput/part1.pdf\n",
            "Created: /content/ouput/part2.pdf\n"
          ]
        }
      ]
    }
  ]
}